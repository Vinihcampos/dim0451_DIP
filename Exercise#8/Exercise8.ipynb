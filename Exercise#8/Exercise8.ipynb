{
 "cells": [
  {
   "cell_type": "code",
   "execution_count": 43,
   "metadata": {},
   "outputs": [],
   "source": [
    "# Import libriaries\n",
    "import cv2\n",
    "import numpy as np\n",
    "import matplotlib.pyplot as plt\n",
    "import operator"
   ]
  },
  {
   "cell_type": "code",
   "execution_count": 62,
   "metadata": {},
   "outputs": [],
   "source": [
    "class Tree:\n",
    "    def __init__(self, root=None, left=None, right=None):        \n",
    "        self.root = root\n",
    "        self.left = left\n",
    "        self.right = right"
   ]
  },
  {
   "cell_type": "code",
   "execution_count": 74,
   "metadata": {},
   "outputs": [],
   "source": [
    "def pre_processing(img):\n",
    "    h,w = img.shape\n",
    "    \n",
    "    code = {}\n",
    "    code['width'] = w\n",
    "    code['height'] = h\n",
    "    code['intensity_p'] = [(i,0) for i in range(256)]\n",
    "    \n",
    "    return code\n",
    "\n",
    "def generate_tree(intensities):\n",
    "    if len(intensities) == 1:\n",
    "        return Tree(root=intensities[:1])\n",
    "    else:\n",
    "        return Tree(left=generate_tree(intensities[:1]), right=generate_tree(intensities[1:]))\n",
    "        \n",
    "\n",
    "def huffman(img):\n",
    "    code = pre_processing(img)\n",
    "    \n",
    "    for row in range(code['height']):\n",
    "        for col in range(code['width']):\n",
    "            intensity = img[row,col]\n",
    "            code['intensity_p'][intensity] = ( intensity, code['intensity_p'][intensity][1]+1 )\n",
    "    code['intensity_p'].sort(key = operator.itemgetter(1), reverse=True)\n",
    "    max_index = 0\n",
    "    \n",
    "    for (_,j) in code['intensity_p']:\n",
    "        if j == 0:\n",
    "            break\n",
    "        max_index += 1\n",
    "    \n",
    "    code['intensity_p'] = code['intensity_p'][:max_index]\n",
    "    code['tree'] = generate_tree(code['intensity_p'])\n",
    "    \n",
    "    return code"
   ]
  },
  {
   "cell_type": "code",
   "execution_count": 79,
   "metadata": {},
   "outputs": [
    {
     "data": {
      "image/png": "[encoded data removed]",
      "text/plain": [
       "<Figure size 432x288 with 1 Axes>"
      ]
     },
     "metadata": {
      "needs_background": "light"
     },
     "output_type": "display_data"
    },
    {
     "name": "stdout",
     "output_type": "stream",
     "text": [
      "[(255, 406338), (0, 14808), (98, 7313), (121, 5971), (128, 4482), (130, 3699), (157, 3592), (166, 3591), (144, 3302), (201, 3234), (247, 2747), (107, 2415), (80, 2138), (244, 2111), (5, 1230), (236, 1185), (231, 930), (239, 902), (220, 742), (228, 559), (195, 540), (223, 537), (11, 429), (211, 412), (199, 400), (7, 397), (188, 391), (74, 373), (215, 353), (9, 352), (92, 307), (27, 289), (204, 268), (52, 267), (96, 256), (93, 253), (179, 250), (55, 236), (31, 235), (99, 235), (25, 231), (34, 230), (207, 230), (149, 220), (13, 211), (67, 210), (17, 204), (19, 204), (72, 204), (155, 203), (16, 200), (60, 200), (65, 200), (113, 200), (88, 199), (172, 195), (116, 192), (83, 189), (108, 189), (124, 188), (18, 187), (132, 180), (139, 174), (44, 170), (49, 167), (23, 166), (39, 164), (163, 160), (146, 152), (69, 150), (79, 149), (8, 146), (63, 141), (105, 140), (81, 138), (22, 137), (15, 136), (196, 131), (43, 130), (118, 130), (58, 128), (71, 123), (102, 122), (28, 119), (84, 118), (21, 117), (36, 117), (37, 116), (42, 116), (26, 114), (47, 112), (126, 112), (147, 112), (10, 109), (122, 106), (32, 102), (131, 102), (68, 101), (35, 100), (86, 98), (78, 97), (41, 96), (119, 96), (141, 93), (14, 88), (111, 85), (170, 84), (109, 83), (73, 79), (87, 77), (82, 75), (117, 75), (50, 74), (20, 68), (142, 67), (91, 66), (167, 66), (29, 65), (56, 65), (77, 65), (24, 59), (159, 58), (12, 56), (183, 56), (187, 53), (45, 51), (54, 50), (103, 50), (114, 48), (138, 47), (120, 45), (59, 40), (160, 34), (57, 31), (143, 29), (40, 28), (66, 28), (76, 28), (94, 28), (191, 26), (178, 25), (181, 25), (135, 21), (154, 17), (184, 14), (134, 13), (53, 9), (127, 7)]\n"
     ]
    }
   ],
   "source": [
    "rubiks = cv2.imread('images/rubiks.png', 0)\n",
    "code = huffman(rubiks)\n",
    "\n",
    "plt.imshow(rubiks, cmap='gray')\n",
    "plt.show()\n",
    "print(code['intensity_p'])"
   ]
  },
  {
   "cell_type": "code",
   "execution_count": null,
   "metadata": {},
   "outputs": [],
   "source": []
  }
 ],
 "metadata": {
  "kernelspec": {
   "display_name": "Python 3",
   "language": "python",
   "name": "python3"
  },
  "language_info": {
   "codemirror_mode": {
    "name": "ipython",
    "version": 3
   },
   "file_extension": ".py",
   "mimetype": "text/x-python",
   "name": "python",
   "nbconvert_exporter": "python",
   "pygments_lexer": "ipython3",
   "version": "3.7.3"
  }
 },
 "nbformat": 4,
 "nbformat_minor": 2
}
