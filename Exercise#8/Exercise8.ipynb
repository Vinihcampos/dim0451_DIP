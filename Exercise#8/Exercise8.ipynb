{
 "cells": [
  {
   "cell_type": "code",
   "execution_count": 75,
   "metadata": {},
   "outputs": [],
   "source": [
    "# Import libriaries\n",
    "import cv2\n",
    "import numpy as np\n",
    "import matplotlib.pyplot as plt\n",
    "import operator\n",
    "from numba import jit"
   ]
  },
  {
   "cell_type": "code",
   "execution_count": 7,
   "metadata": {},
   "outputs": [],
   "source": [
    "class Node:\n",
    "    def __init__(self, data=None, left=None, right=None, p=0):        \n",
    "        self.data = data\n",
    "        self.left = left\n",
    "        self.right = right\n",
    "        self.p = p\n",
    "    \n",
    "    def __str__(self):\n",
    "        if self.data == None:\n",
    "            return \"(None,%d)\" % (self.p)\n",
    "        return \"(%d,%d)\" % (self.data,self.p)\n",
    "    \n",
    "    def __repr__(self):\n",
    "        if self.data == None:\n",
    "            return \"(None,%d)\" % (self.p)\n",
    "        return \"(%d,%d)\" % (self.data,self.p)"
   ]
  },
  {
   "cell_type": "code",
   "execution_count": 8,
   "metadata": {},
   "outputs": [],
   "source": [
    "def lower_bound(x, vector):\n",
    "    if len(vector) == 0:\n",
    "        return 0\n",
    "    l = 0\n",
    "    r = len(vector) - 1\n",
    "    while(r - l > 1):\n",
    "        m = (l+r)//2\n",
    "        if vector[m].p == x:\n",
    "            return m\n",
    "        elif x < vector[m].p:\n",
    "            r = m\n",
    "        else:\n",
    "            l = m\n",
    "            \n",
    "    if vector[r].p <= x:\n",
    "        return r\n",
    "    if vector[l].p <= x:\n",
    "        return l\n",
    "    else:\n",
    "        return 0"
   ]
  },
  {
   "cell_type": "code",
   "execution_count": 9,
   "metadata": {},
   "outputs": [],
   "source": [
    "def generate_tree(intensities):\n",
    "    \n",
    "    if len(intensities) == 0:\n",
    "        return Node()\n",
    "    \n",
    "    while len(intensities) > 1:\n",
    "        left = intensities[1]\n",
    "        right = intensities[0]\n",
    "        node = Node(left=left, right=right, p = (left.p + right.p))\n",
    "        \n",
    "        intensities = intensities[2:]\n",
    "        pos = lower_bound(node.p, intensities)\n",
    "        intensities.insert(pos, node)\n",
    "    \n",
    "    return intensities[0]"
   ]
  },
  {
   "cell_type": "code",
   "execution_count": 47,
   "metadata": {},
   "outputs": [],
   "source": [
    "def inorder(node, code=\"\"):\n",
    "    output = \"\"\n",
    "    colors = {}\n",
    "    if (node.left == None) and (node.right == None) and (node.data != None):\n",
    "        output = (\"%s %s\\n\" % (str(node.data), code))\n",
    "        colors[node.data] = code\n",
    "        \n",
    "    if node.left != None:\n",
    "        o,c = inorder(node.left, code+\"1\")\n",
    "        output += o\n",
    "        colors.update(c)\n",
    "    if node.right != None:\n",
    "        o,c = inorder(node.right, code+\"0\")\n",
    "        output += o\n",
    "        colors.update(c)\n",
    "        \n",
    "    return output,colors"
   ]
  },
  {
   "cell_type": "code",
   "execution_count": 48,
   "metadata": {},
   "outputs": [],
   "source": [
    "def pre_processing(img):\n",
    "    h,w = img.shape\n",
    "    \n",
    "    code = {}\n",
    "    code['width'] = w\n",
    "    code['height'] = h\n",
    "    intensities = [(i,0) for i in range(256)]\n",
    "    \n",
    "    return code,intensities"
   ]
  },
  {
   "cell_type": "code",
   "execution_count": 49,
   "metadata": {},
   "outputs": [],
   "source": [
    "def huffman(img):\n",
    "    code,intensities = pre_processing(img)\n",
    "    \n",
    "    for row in range(code['height']):\n",
    "        for col in range(code['width']):\n",
    "            intensity = img[row,col]\n",
    "            intensities[intensity] = ( intensity, intensities[intensity][1]+1 )\n",
    "    intensities.sort(key = operator.itemgetter(1), reverse=True)\n",
    "    max_index = 0\n",
    "    \n",
    "    code['intensity_p'] = []\n",
    "    for (i,j) in intensities:\n",
    "        if j == 0:\n",
    "            break\n",
    "        code['intensity_p'].append( Node(data=i,p=j) )\n",
    "    \n",
    "    code['intensity_p'].reverse()\n",
    "    code['tree'] = generate_tree(code['intensity_p'])\n",
    "    \n",
    "    return code"
   ]
  },
  {
   "cell_type": "code",
   "execution_count": 52,
   "metadata": {},
   "outputs": [],
   "source": [
    "def pad_encoded_text(encoded_text):\n",
    "    extra_padding = 8 - len(encoded_text) % 8\n",
    "    for i in range(extra_padding):\n",
    "        encoded_text += \"0\"\n",
    "        \n",
    "    padded_info = \"{0:08b}\".format(extra_padding)\n",
    "    encoded_text = padded_info + encoded_text\n",
    "    return encoded_text\n",
    "\n",
    "def get_byte_array(padded_encoded_text):\n",
    "    if(len(padded_encoded_text) % 8 != 0):\n",
    "        print(\"Encoded text not padded properly\")\n",
    "        exit(0)\n",
    "\n",
    "    b = bytearray()\n",
    "    for i in range(0, len(padded_encoded_text), 8):\n",
    "        byte = padded_encoded_text[i:i+8]\n",
    "        b.append(int(byte, 2))\n",
    "    return b\n",
    "\n",
    "def compress(img, code, filename):\n",
    "    f = open(filename + '.vh', 'wb')    \n",
    "    colors_str, colors_map = inorder(code['tree'])\n",
    "    encoded_text = \"\"\n",
    "    for row in range(code['height']):\n",
    "        for col in range(code['width']):\n",
    "            encoded_text += colors_map[ img[row,col] ]\n",
    "    encoded_text = pad_encoded_text(encoded_text)\n",
    "    b = get_byte_array(encoded_text)\n",
    "    f.write(bytes(b))\n",
    "    f.close()\n",
    "    \n",
    "    f = open(filename + '.config', 'w')\n",
    "    f.write(str(code['width']) + '\\n')\n",
    "    f.write(str(code['height']) + '\\n')\n",
    "    f.write(colors_str)\n",
    "    f.close    "
   ]
  },
  {
   "cell_type": "code",
   "execution_count": 53,
   "metadata": {},
   "outputs": [
    {
     "data": {
      "image/png": "[encoded data removed]",
      "text/plain": [
       "<Figure size 432x288 with 1 Axes>"
      ]
     },
     "metadata": {
      "needs_background": "light"
     },
     "output_type": "display_data"
    }
   ],
   "source": [
    "rubiks = cv2.imread('images/rubiks.png', 0)\n",
    "code = huffman(rubiks)\n",
    "\n",
    "plt.imshow(rubiks, cmap='gray')\n",
    "plt.show()\n",
    "compress(rubiks, code, \"rubiks\")"
   ]
  },
  {
   "cell_type": "code",
   "execution_count": 90,
   "metadata": {},
   "outputs": [],
   "source": [
    "def get_config(fileconfig):\n",
    "    code={}\n",
    "    with open(fileconfig, 'r') as f:\n",
    "        content = f.read()\n",
    "        lines = content.split('\\n')\n",
    "        code['width'] = int(lines[0])\n",
    "        code['height'] = int(lines[1])\n",
    "        for line in lines[2:]:\n",
    "            color_bin = line.split(' ')\n",
    "            if len(color_bin) > 0:\n",
    "                code[color_bin[1]] = color_bin[0]\n",
    "    return code\n",
    "\n",
    "def decode(code, config):\n",
    "    image = np.zeros((config['height'],config['width']), dtype='uint8')\n",
    "    for row in range(config['height']):\n",
    "        for col in range(config['width']):\n",
    "            value = -1\n",
    "            current = ''\n",
    "            while(code != ''):\n",
    "                current += code[0]\n",
    "                code = code[1:]\n",
    "                if current in config:\n",
    "                    value = int(config[current])\n",
    "                    break\n",
    "            image[row,col] = value\n",
    "    return image\n",
    "\n",
    "def decompress(filename, fileconfig):\n",
    "    config = get_config(fileconfig)\n",
    "    with open('rubiks.vh', 'rb') as f:\n",
    "        code = \"\"\n",
    "        byte = f.read(1)\n",
    "        while byte != b\"\":\n",
    "            # Do stuff with byte.\n",
    "            code += bin( ord(byte) )[2:].rjust(8, '0')\n",
    "            byte = f.read(1)    \n",
    "    result = decode(code, config)\n",
    "    plt.imshow(result, cmap='gray')\n",
    "    plt.show()"
   ]
  },
  {
   "cell_type": "code",
   "execution_count": 91,
   "metadata": {},
   "outputs": [
    {
     "data": {
      "image/png": "[encoded data removed]",
      "text/plain": [
       "<Figure size 432x288 with 1 Axes>"
      ]
     },
     "metadata": {
      "needs_background": "light"
     },
     "output_type": "display_data"
    }
   ],
   "source": [
    "decompress(\"rubiks.vk\", \"rubiks.config\")"
   ]
  },
  {
   "cell_type": "code",
   "execution_count": null,
   "metadata": {},
   "outputs": [],
   "source": []
  }
 ],
 "metadata": {
  "kernelspec": {
   "display_name": "Python 3",
   "language": "python",
   "name": "python3"
  },
  "language_info": {
   "codemirror_mode": {
    "name": "ipython",
    "version": 3
   },
   "file_extension": ".py",
   "mimetype": "text/x-python",
   "name": "python",
   "nbconvert_exporter": "python",
   "pygments_lexer": "ipython3",
   "version": "3.7.3"
  }
 },
 "nbformat": 4,
 "nbformat_minor": 2
}
