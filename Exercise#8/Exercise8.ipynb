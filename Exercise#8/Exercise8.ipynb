{
 "cells": [
  {
   "cell_type": "code",
   "execution_count": 15,
   "metadata": {},
   "outputs": [],
   "source": [
    "# Import libriaries\n",
    "import cv2\n",
    "import numpy as np\n",
    "import operator\n",
    "from tqdm import tqdm"
   ]
  },
  {
   "cell_type": "code",
   "execution_count": 2,
   "metadata": {},
   "outputs": [],
   "source": [
    "class Node:\n",
    "    def __init__(self, data=None, left=None, right=None, p=0):        \n",
    "        self.data = data\n",
    "        self.left = left\n",
    "        self.right = right\n",
    "        self.p = p\n",
    "    \n",
    "    def __str__(self):\n",
    "        if self.data == None:\n",
    "            return \"(None,%d)\" % (self.p)\n",
    "        return \"(%d,%d)\" % (self.data,self.p)\n",
    "    \n",
    "    def __repr__(self):\n",
    "        if self.data == None:\n",
    "            return \"(None,%d)\" % (self.p)\n",
    "        return \"(%d,%d)\" % (self.data,self.p)"
   ]
  },
  {
   "cell_type": "code",
   "execution_count": 3,
   "metadata": {},
   "outputs": [],
   "source": [
    "def lower_bound(x, vector):\n",
    "    if len(vector) == 0:\n",
    "        return 0\n",
    "    l = 0\n",
    "    r = len(vector) - 1\n",
    "    while(r - l > 1):\n",
    "        m = (l+r)//2\n",
    "        if vector[m].p == x:\n",
    "            return m\n",
    "        elif x < vector[m].p:\n",
    "            r = m\n",
    "        else:\n",
    "            l = m\n",
    "            \n",
    "    if vector[r].p <= x:\n",
    "        return r\n",
    "    if vector[l].p <= x:\n",
    "        return l\n",
    "    else:\n",
    "        return 0"
   ]
  },
  {
   "cell_type": "code",
   "execution_count": 4,
   "metadata": {},
   "outputs": [],
   "source": [
    "def generate_tree(intensities):\n",
    "    \n",
    "    if len(intensities) == 0:\n",
    "        return Node()\n",
    "    \n",
    "    while len(intensities) > 1:\n",
    "        left = intensities[1]\n",
    "        right = intensities[0]\n",
    "        node = Node(left=left, right=right, p = (left.p + right.p))\n",
    "        \n",
    "        intensities = intensities[2:]\n",
    "        pos = lower_bound(node.p, intensities)\n",
    "        intensities.insert(pos, node)\n",
    "    \n",
    "    return intensities[0]"
   ]
  },
  {
   "cell_type": "code",
   "execution_count": 5,
   "metadata": {},
   "outputs": [],
   "source": [
    "def inorder(node, code=\"\"):\n",
    "    output = \"\"\n",
    "    colors = {}\n",
    "    if (node.left == None) and (node.right == None) and (node.data != None):\n",
    "        output = (\"%s %s\\n\" % (str(node.data), code))\n",
    "        colors[node.data] = code\n",
    "        \n",
    "    if node.left != None:\n",
    "        o,c = inorder(node.left, code+\"1\")\n",
    "        output += o\n",
    "        colors.update(c)\n",
    "    if node.right != None:\n",
    "        o,c = inorder(node.right, code+\"0\")\n",
    "        output += o\n",
    "        colors.update(c)\n",
    "        \n",
    "    return output,colors"
   ]
  },
  {
   "cell_type": "code",
   "execution_count": 6,
   "metadata": {},
   "outputs": [],
   "source": [
    "def pre_processing(img):\n",
    "    h,w = img.shape[:2]\n",
    "    c = 1\n",
    "    if len(img.shape) > 2:\n",
    "        c = img.shape[2]\n",
    "    \n",
    "    code = {}\n",
    "    code['width'] = w\n",
    "    code['height'] = h\n",
    "    code['channels'] = c\n",
    "    intensities = [(i,0) for i in range(256)]\n",
    "    \n",
    "    return code,intensities"
   ]
  },
  {
   "cell_type": "code",
   "execution_count": 7,
   "metadata": {},
   "outputs": [],
   "source": [
    "def huffman(img):\n",
    "    code,intensities = pre_processing(img)\n",
    "    \n",
    "    for row in range(code['height']):\n",
    "        for col in range(code['width']):\n",
    "            if code['channels'] > 1:\n",
    "                for c in range(code['channels']):\n",
    "                    intensity = img[row,col,c]\n",
    "                    intensities[intensity] = ( intensity, intensities[intensity][1]+1 )\n",
    "            else:\n",
    "                intensity = img[row,col]\n",
    "                intensities[intensity] = ( intensity, intensities[intensity][1]+1 )\n",
    "    intensities.sort(key = operator.itemgetter(1), reverse=True)\n",
    "    max_index = 0\n",
    "    \n",
    "    code['intensity_p'] = []\n",
    "    for (i,j) in intensities:\n",
    "        if j == 0:\n",
    "            break\n",
    "        code['intensity_p'].append( Node(data=i,p=j) )\n",
    "    \n",
    "    code['intensity_p'].reverse()\n",
    "    code['tree'] = generate_tree(code['intensity_p'])\n",
    "    \n",
    "    return code"
   ]
  },
  {
   "cell_type": "code",
   "execution_count": 8,
   "metadata": {},
   "outputs": [],
   "source": [
    "def pad_encoded_text(encoded_text):\n",
    "    extra_padding = 8 - len(encoded_text) % 8\n",
    "    for i in range(extra_padding):\n",
    "        encoded_text += \"0\"\n",
    "        \n",
    "    padded_info = \"{0:08b}\".format(extra_padding)\n",
    "    encoded_text = padded_info + encoded_text\n",
    "    return encoded_text\n",
    "\n",
    "def get_byte_array(padded_encoded_text):\n",
    "    if(len(padded_encoded_text) % 8 != 0):\n",
    "        print(\"Encoded text not padded properly\")\n",
    "        exit(0)\n",
    "\n",
    "    b = bytearray()\n",
    "    for i in range(0, len(padded_encoded_text), 8):\n",
    "        byte = padded_encoded_text[i:i+8]\n",
    "        b.append(int(byte, 2))\n",
    "    return b\n",
    "\n",
    "def compress(img, code, filename):\n",
    "    f = open(filename + '.vh', 'wb')    \n",
    "    colors_str, colors_map = inorder(code['tree'])\n",
    "    encoded_text = \"\"\n",
    "    for row in range(code['height']):\n",
    "        for col in range(code['width']):\n",
    "            if code['channels'] > 1:\n",
    "                for c in range(code['channels']):\n",
    "                    encoded_text += colors_map[ img[row,col,c] ]\n",
    "            else:\n",
    "                encoded_text += colors_map[ img[row,col] ]\n",
    "    encoded_text = pad_encoded_text(encoded_text)\n",
    "    b = get_byte_array(encoded_text)\n",
    "    f.write(bytes(b))\n",
    "    f.close()\n",
    "    \n",
    "    f = open(filename + '.config', 'w')\n",
    "    f.write(str(code['width']) + '\\n')\n",
    "    f.write(str(code['height']) + '\\n')\n",
    "    f.write(str(code['channels']) + '\\n')\n",
    "    f.write(colors_str)\n",
    "    f.close    "
   ]
  },
  {
   "cell_type": "code",
   "execution_count": 22,
   "metadata": {},
   "outputs": [
    {
     "data": {
      "image/png": "[encoded data removed]",
      "text/plain": [
       "<Figure size 432x288 with 1 Axes>"
      ]
     },
     "metadata": {
      "needs_background": "light"
     },
     "output_type": "display_data"
    }
   ],
   "source": [
    "rubiks = cv2.imread('images/rubiks.png')\n",
    "#rubiks = cv2.cvtColor(rubiks, cv2.COLOR_BGR2RGB)\n",
    "code = huffman(rubiks)\n",
    "\n",
    "plt.imshow(rubiks)\n",
    "plt.show()\n",
    "compress(rubiks, code, \"rubiks\")"
   ]
  },
  {
   "cell_type": "code",
   "execution_count": 18,
   "metadata": {},
   "outputs": [],
   "source": [
    "def get_config(fileconfig):\n",
    "    code={}\n",
    "    with open(fileconfig, 'r') as f:\n",
    "        content = f.read()\n",
    "        lines = content.split('\\n')\n",
    "        code['width'] = int(lines[0])\n",
    "        code['height'] = int(lines[1])\n",
    "        code['channels'] = int(lines[2])\n",
    "        for line in lines[3:]:\n",
    "            color_bin = line.split(' ')\n",
    "            if len(color_bin) >= 2:\n",
    "                code[color_bin[1]] = color_bin[0]\n",
    "    return code\n",
    "\n",
    "def decode(code, config):\n",
    "    image = np.zeros((config['height'],config['width']), dtype='uint8')\n",
    "    if config['channels'] > 1:\n",
    "        image = np.zeros((config['height'],config['width'],config['channels']), dtype='uint8')\n",
    "    for row in tqdm(range(config['height'])):\n",
    "        for col in range(config['width']):\n",
    "            for c in range(config['channels']):\n",
    "                value = -1\n",
    "                current = ''\n",
    "                while(code != ''):\n",
    "                    current += code[0]\n",
    "                    code = code[1:]\n",
    "                    if current in config:\n",
    "                        value = int(config[current])\n",
    "                        break\n",
    "                if config['channels'] > 1:\n",
    "                    image[row,col,c] = value\n",
    "                else:\n",
    "                    image[row,col] = value\n",
    "    return image\n",
    "\n",
    "@jit(nopython=True)\n",
    "def decompress(filename, fileconfig):\n",
    "    config = get_config(fileconfig)\n",
    "    with open(filename, 'rb') as f:\n",
    "        code = \"\"\n",
    "        byte = f.read(1)\n",
    "        while byte != b\"\":\n",
    "            # Do stuff with byte.\n",
    "            code += bin( ord(byte) )[2:].rjust(8, '0')\n",
    "            byte = f.read(1)    \n",
    "    result = decode(code, config)\n",
    "    plt.imshow(result)\n",
    "    plt.show()"
   ]
  },
  {
   "cell_type": "code",
   "execution_count": 19,
   "metadata": {},
   "outputs": [
    {
     "ename": "NotDefinedError",
     "evalue": "Failed in nopython mode pipeline (step: analyzing bytecode)\nVariable '$16.2' is not defined.\nUnsupported Python functionality was found in the code Numba was trying to\ncompile. This error could be due to invalid code, does the code work\nwithout Numba? (To temporarily disable Numba JIT, set the `NUMBA_DISABLE_JIT`\nenvironment variable to non-zero, and then rerun the code).\n\nIf the code is valid and the unsupported functionality is important to you\nplease file a feature request at: https://github.com/numba/numba/issues/new\n\nTo see Python/NumPy features supported by the latest release of Numba visit:\nhttp://numba.pydata.org/numba-doc/dev/reference/pysupported.html\nand\nhttp://numba.pydata.org/numba-doc/dev/reference/numpysupported.html\n",
     "output_type": "error",
     "traceback": [
      "\u001b[0;31m---------------------------------------------------------------------------\u001b[0m",
      "\u001b[0;31mKeyError\u001b[0m                                  Traceback (most recent call last)",
      "\u001b[0;32m~/miniconda3/envs/dip/lib/python3.7/site-packages/numba/ir.py\u001b[0m in \u001b[0;36mget\u001b[0;34m(self, name)\u001b[0m\n\u001b[1;32m    165\u001b[0m         \u001b[0;32mtry\u001b[0m\u001b[0;34m:\u001b[0m\u001b[0;34m\u001b[0m\u001b[0;34m\u001b[0m\u001b[0m\n\u001b[0;32m--> 166\u001b[0;31m             \u001b[0;32mreturn\u001b[0m \u001b[0mself\u001b[0m\u001b[0;34m.\u001b[0m\u001b[0m_con\u001b[0m\u001b[0;34m[\u001b[0m\u001b[0mname\u001b[0m\u001b[0;34m]\u001b[0m\u001b[0;34m\u001b[0m\u001b[0;34m\u001b[0m\u001b[0m\n\u001b[0m\u001b[1;32m    167\u001b[0m         \u001b[0;32mexcept\u001b[0m \u001b[0mKeyError\u001b[0m\u001b[0;34m:\u001b[0m\u001b[0;34m\u001b[0m\u001b[0;34m\u001b[0m\u001b[0m\n",
      "\u001b[0;31mKeyError\u001b[0m: '$16.2'",
      "\nDuring handling of the above exception, another exception occurred:\n",
      "\u001b[0;31mNotDefinedError\u001b[0m                           Traceback (most recent call last)",
      "\u001b[0;32m~/miniconda3/envs/dip/lib/python3.7/site-packages/numba/ir.py\u001b[0m in \u001b[0;36mget_exact\u001b[0;34m(self, name)\u001b[0m\n\u001b[1;32m    805\u001b[0m         \u001b[0;32mtry\u001b[0m\u001b[0;34m:\u001b[0m\u001b[0;34m\u001b[0m\u001b[0;34m\u001b[0m\u001b[0m\n\u001b[0;32m--> 806\u001b[0;31m             \u001b[0;32mreturn\u001b[0m \u001b[0mself\u001b[0m\u001b[0;34m.\u001b[0m\u001b[0mlocalvars\u001b[0m\u001b[0;34m.\u001b[0m\u001b[0mget\u001b[0m\u001b[0;34m(\u001b[0m\u001b[0mname\u001b[0m\u001b[0;34m)\u001b[0m\u001b[0;34m\u001b[0m\u001b[0;34m\u001b[0m\u001b[0m\n\u001b[0m\u001b[1;32m    807\u001b[0m         \u001b[0;32mexcept\u001b[0m \u001b[0mNotDefinedError\u001b[0m\u001b[0;34m:\u001b[0m\u001b[0;34m\u001b[0m\u001b[0;34m\u001b[0m\u001b[0m\n",
      "\u001b[0;32m~/miniconda3/envs/dip/lib/python3.7/site-packages/numba/ir.py\u001b[0m in \u001b[0;36mget\u001b[0;34m(self, name)\u001b[0m\n\u001b[1;32m    167\u001b[0m         \u001b[0;32mexcept\u001b[0m \u001b[0mKeyError\u001b[0m\u001b[0;34m:\u001b[0m\u001b[0;34m\u001b[0m\u001b[0;34m\u001b[0m\u001b[0m\n\u001b[0;32m--> 168\u001b[0;31m             \u001b[0;32mraise\u001b[0m \u001b[0mNotDefinedError\u001b[0m\u001b[0;34m(\u001b[0m\u001b[0mname\u001b[0m\u001b[0;34m)\u001b[0m\u001b[0;34m\u001b[0m\u001b[0;34m\u001b[0m\u001b[0m\n\u001b[0m\u001b[1;32m    169\u001b[0m \u001b[0;34m\u001b[0m\u001b[0m\n",
      "\u001b[0;31mNotDefinedError\u001b[0m: Variable '$16.2' is not defined.",
      "\nDuring handling of the above exception, another exception occurred:\n",
      "\u001b[0;31mKeyError\u001b[0m                                  Traceback (most recent call last)",
      "\u001b[0;32m~/miniconda3/envs/dip/lib/python3.7/site-packages/numba/ir.py\u001b[0m in \u001b[0;36mget\u001b[0;34m(self, name)\u001b[0m\n\u001b[1;32m    165\u001b[0m         \u001b[0;32mtry\u001b[0m\u001b[0;34m:\u001b[0m\u001b[0;34m\u001b[0m\u001b[0;34m\u001b[0m\u001b[0m\n\u001b[0;32m--> 166\u001b[0;31m             \u001b[0;32mreturn\u001b[0m \u001b[0mself\u001b[0m\u001b[0;34m.\u001b[0m\u001b[0m_con\u001b[0m\u001b[0;34m[\u001b[0m\u001b[0mname\u001b[0m\u001b[0;34m]\u001b[0m\u001b[0;34m\u001b[0m\u001b[0;34m\u001b[0m\u001b[0m\n\u001b[0m\u001b[1;32m    167\u001b[0m         \u001b[0;32mexcept\u001b[0m \u001b[0mKeyError\u001b[0m\u001b[0;34m:\u001b[0m\u001b[0;34m\u001b[0m\u001b[0;34m\u001b[0m\u001b[0m\n",
      "\u001b[0;31mKeyError\u001b[0m: '$16.2'",
      "\nDuring handling of the above exception, another exception occurred:\n",
      "\u001b[0;31mNotDefinedError\u001b[0m                           Traceback (most recent call last)",
      "\u001b[0;32m<ipython-input-19-b48cc20c59b0>\u001b[0m in \u001b[0;36m<module>\u001b[0;34m\u001b[0m\n\u001b[0;32m----> 1\u001b[0;31m \u001b[0mdecompress\u001b[0m\u001b[0;34m(\u001b[0m\u001b[0;34m\"rubiks.vh\"\u001b[0m\u001b[0;34m,\u001b[0m \u001b[0;34m\"rubiks.config\"\u001b[0m\u001b[0;34m)\u001b[0m\u001b[0;34m\u001b[0m\u001b[0;34m\u001b[0m\u001b[0m\n\u001b[0m",
      "\u001b[0;32m~/miniconda3/envs/dip/lib/python3.7/site-packages/numba/dispatcher.py\u001b[0m in \u001b[0;36m_compile_for_args\u001b[0;34m(self, *args, **kws)\u001b[0m\n\u001b[1;32m    356\u001b[0m             \u001b[0;31m# These errors are probably from an issue with either the code supplied\u001b[0m\u001b[0;34m\u001b[0m\u001b[0;34m\u001b[0m\u001b[0;34m\u001b[0m\u001b[0m\n\u001b[1;32m    357\u001b[0m             \u001b[0;31m# being syntactically or otherwise invalid\u001b[0m\u001b[0;34m\u001b[0m\u001b[0;34m\u001b[0m\u001b[0;34m\u001b[0m\u001b[0m\n\u001b[0;32m--> 358\u001b[0;31m             \u001b[0merror_rewrite\u001b[0m\u001b[0;34m(\u001b[0m\u001b[0me\u001b[0m\u001b[0;34m,\u001b[0m \u001b[0;34m'interpreter'\u001b[0m\u001b[0;34m)\u001b[0m\u001b[0;34m\u001b[0m\u001b[0;34m\u001b[0m\u001b[0m\n\u001b[0m\u001b[1;32m    359\u001b[0m         \u001b[0;32mexcept\u001b[0m \u001b[0merrors\u001b[0m\u001b[0;34m.\u001b[0m\u001b[0mConstantInferenceError\u001b[0m \u001b[0;32mas\u001b[0m \u001b[0me\u001b[0m\u001b[0;34m:\u001b[0m\u001b[0;34m\u001b[0m\u001b[0;34m\u001b[0m\u001b[0m\n\u001b[1;32m    360\u001b[0m             \u001b[0;31m# this is from trying to infer something as constant when it isn't\u001b[0m\u001b[0;34m\u001b[0m\u001b[0;34m\u001b[0m\u001b[0;34m\u001b[0m\u001b[0m\n",
      "\u001b[0;32m~/miniconda3/envs/dip/lib/python3.7/site-packages/numba/dispatcher.py\u001b[0m in \u001b[0;36merror_rewrite\u001b[0;34m(e, issue_type)\u001b[0m\n\u001b[1;32m    315\u001b[0m                 \u001b[0;32mraise\u001b[0m \u001b[0me\u001b[0m\u001b[0;34m\u001b[0m\u001b[0;34m\u001b[0m\u001b[0m\n\u001b[1;32m    316\u001b[0m             \u001b[0;32melse\u001b[0m\u001b[0;34m:\u001b[0m\u001b[0;34m\u001b[0m\u001b[0;34m\u001b[0m\u001b[0m\n\u001b[0;32m--> 317\u001b[0;31m                 \u001b[0mreraise\u001b[0m\u001b[0;34m(\u001b[0m\u001b[0mtype\u001b[0m\u001b[0;34m(\u001b[0m\u001b[0me\u001b[0m\u001b[0;34m)\u001b[0m\u001b[0;34m,\u001b[0m \u001b[0me\u001b[0m\u001b[0;34m,\u001b[0m \u001b[0;32mNone\u001b[0m\u001b[0;34m)\u001b[0m\u001b[0;34m\u001b[0m\u001b[0;34m\u001b[0m\u001b[0m\n\u001b[0m\u001b[1;32m    318\u001b[0m \u001b[0;34m\u001b[0m\u001b[0m\n\u001b[1;32m    319\u001b[0m         \u001b[0margtypes\u001b[0m \u001b[0;34m=\u001b[0m \u001b[0;34m[\u001b[0m\u001b[0;34m]\u001b[0m\u001b[0;34m\u001b[0m\u001b[0;34m\u001b[0m\u001b[0m\n",
      "\u001b[0;32m~/miniconda3/envs/dip/lib/python3.7/site-packages/numba/six.py\u001b[0m in \u001b[0;36mreraise\u001b[0;34m(tp, value, tb)\u001b[0m\n\u001b[1;32m    656\u001b[0m             \u001b[0mvalue\u001b[0m \u001b[0;34m=\u001b[0m \u001b[0mtp\u001b[0m\u001b[0;34m(\u001b[0m\u001b[0;34m)\u001b[0m\u001b[0;34m\u001b[0m\u001b[0;34m\u001b[0m\u001b[0m\n\u001b[1;32m    657\u001b[0m         \u001b[0;32mif\u001b[0m \u001b[0mvalue\u001b[0m\u001b[0;34m.\u001b[0m\u001b[0m__traceback__\u001b[0m \u001b[0;32mis\u001b[0m \u001b[0;32mnot\u001b[0m \u001b[0mtb\u001b[0m\u001b[0;34m:\u001b[0m\u001b[0;34m\u001b[0m\u001b[0;34m\u001b[0m\u001b[0m\n\u001b[0;32m--> 658\u001b[0;31m             \u001b[0;32mraise\u001b[0m \u001b[0mvalue\u001b[0m\u001b[0;34m.\u001b[0m\u001b[0mwith_traceback\u001b[0m\u001b[0;34m(\u001b[0m\u001b[0mtb\u001b[0m\u001b[0;34m)\u001b[0m\u001b[0;34m\u001b[0m\u001b[0;34m\u001b[0m\u001b[0m\n\u001b[0m\u001b[1;32m    659\u001b[0m         \u001b[0;32mraise\u001b[0m \u001b[0mvalue\u001b[0m\u001b[0;34m\u001b[0m\u001b[0;34m\u001b[0m\u001b[0m\n\u001b[1;32m    660\u001b[0m \u001b[0;34m\u001b[0m\u001b[0m\n",
      "\u001b[0;31mNotDefinedError\u001b[0m: Failed in nopython mode pipeline (step: analyzing bytecode)\nVariable '$16.2' is not defined.\nUnsupported Python functionality was found in the code Numba was trying to\ncompile. This error could be due to invalid code, does the code work\nwithout Numba? (To temporarily disable Numba JIT, set the `NUMBA_DISABLE_JIT`\nenvironment variable to non-zero, and then rerun the code).\n\nIf the code is valid and the unsupported functionality is important to you\nplease file a feature request at: https://github.com/numba/numba/issues/new\n\nTo see Python/NumPy features supported by the latest release of Numba visit:\nhttp://numba.pydata.org/numba-doc/dev/reference/pysupported.html\nand\nhttp://numba.pydata.org/numba-doc/dev/reference/numpysupported.html\n"
     ]
    }
   ],
   "source": [
    "decompress(\"rubiks.vh\", \"rubiks.config\")"
   ]
  },
  {
   "cell_type": "code",
   "execution_count": null,
   "metadata": {},
   "outputs": [],
   "source": []
  }
 ],
 "metadata": {
  "kernelspec": {
   "display_name": "Python 3",
   "language": "python",
   "name": "python3"
  },
  "language_info": {
   "codemirror_mode": {
    "name": "ipython",
    "version": 3
   },
   "file_extension": ".py",
   "mimetype": "text/x-python",
   "name": "python",
   "nbconvert_exporter": "python",
   "pygments_lexer": "ipython3",
   "version": "3.7.3"
  }
 },
 "nbformat": 4,
 "nbformat_minor": 2
}
