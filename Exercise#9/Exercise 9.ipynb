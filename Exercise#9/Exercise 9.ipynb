{
 "cells": [
  {
   "cell_type": "markdown",
   "metadata": {},
   "source": [
    "# Slow Motion"
   ]
  },
  {
   "cell_type": "code",
   "execution_count": 1,
   "metadata": {},
   "outputs": [],
   "source": [
    "# import libraries\n",
    "import cv2\n",
    "import numpy as np"
   ]
  },
  {
   "cell_type": "code",
   "execution_count": 7,
   "metadata": {},
   "outputs": [
    {
     "name": "stdout",
     "output_type": "stream",
     "text": [
      "Width: 1280\n",
      "Height: 720\n",
      "FPS: 30.0\n",
      "Nº frames: 709.0\n",
      "Video time: 23.633333333333333\n"
     ]
    }
   ],
   "source": [
    "video = cv2.VideoCapture('videos/handball1.mp4')\n",
    "if not video.isOpened(): \n",
    "    print(\"Unable to read video file\")\n",
    "\n",
    "# Getting some infomations about movie\n",
    "width = int(video.get(cv2.CAP_PROP_FRAME_WIDTH))\n",
    "height = int(video.get(cv2.CAP_PROP_FRAME_HEIGHT))\n",
    "fps = video.get(cv2.CAP_PROP_FPS)\n",
    "n_frames = video.get(cv2.CAP_PROP_FRAME_COUNT)\n",
    "video_time = n_frames / fps\n",
    "\n",
    "fourcc = cv2.VideoWriter_fourcc(*'XVID')\n",
    "out = cv2.VideoWriter('results/handball.avi',fourcc, fps, (int(width),int(height)))\n",
    "\n",
    "print(\"Width:\", width)\n",
    "print(\"Height:\", height)\n",
    "print(\"FPS:\", fps)\n",
    "print(\"Nº frames:\", n_frames)\n",
    "print(\"Video time:\", video_time)"
   ]
  },
  {
   "cell_type": "markdown",
   "metadata": {},
   "source": [
    "### Processing frames"
   ]
  },
  {
   "cell_type": "code",
   "execution_count": 8,
   "metadata": {},
   "outputs": [],
   "source": [
    "def check_pos(width, height, a, b):\n",
    "    return (a >= width) or (a < 0) or (b >= height) or (b < 0)\n",
    "\n",
    "# params for ShiTomasi corner detection\n",
    "feature_params = dict( maxCorners = width * height,\n",
    "                       qualityLevel = 0.1,\n",
    "                       minDistance = 5,\n",
    "                       blockSize = 7 )\n",
    "                       \n",
    "# Parameters for lucas kanade optical flow\n",
    "lk_params = dict( winSize  = (50,50),\n",
    "                  maxLevel = 5,\n",
    "                  criteria = (cv2.TERM_CRITERIA_EPS | cv2.TERM_CRITERIA_COUNT, 10, 0.03))\n",
    "\n",
    "\n",
    "# Take first frame and find corners in it\n",
    "_, old_frame = video.read()\n",
    "old_gray = cv2.cvtColor(old_frame, cv2.COLOR_BGR2GRAY)\n",
    "p0 = cv2.goodFeaturesToTrack(old_gray, mask = None, **feature_params)\n",
    "\n",
    "while video.isOpened():\n",
    "    _ , frame = video.read()\n",
    "    if frame is None:\n",
    "        break\n",
    "        \n",
    "    new_frame1 = frame.copy()\n",
    "    new_frame2 = frame.copy()\n",
    "    new_frame3 = frame.copy()\n",
    "    frame_gray = cv2.cvtColor(frame, cv2.COLOR_BGR2GRAY)\n",
    "    p0 = cv2.goodFeaturesToTrack(old_gray, mask = None, **feature_params)\n",
    "\n",
    "    # calculate optical flow\n",
    "    p1, _, _ = cv2.calcOpticalFlowPyrLK(old_gray, frame_gray, p0, None, **lk_params)\n",
    "    \n",
    "    # draw the tracks\n",
    "    for i,(new,old) in enumerate(zip(p1,p0)):\n",
    "        a,b = old.ravel()\n",
    "        c,d = new.ravel()\n",
    "        \n",
    "        if check_pos(width, height, a, b) or check_pos(width, height, c, d):\n",
    "            continue\n",
    "        \n",
    "        w_2 = (a + c) // 2 - 1\n",
    "        h_2 = (b + d) // 2 - 1\n",
    "        w_1 = 0\n",
    "        h_1 = 0\n",
    "        w_3 = 0\n",
    "        h_3 = 0\n",
    "        \n",
    "        if a < c:\n",
    "            w_1 = (a + w_2) // 2 - 1\n",
    "            w_3 = (w_2 + c) // 2 - 1\n",
    "        else:\n",
    "            w_3 = (a + w_2) // 2 - 1\n",
    "            w_1 = (w_2 + c) // 2 - 1\n",
    "            \n",
    "        if b < d:\n",
    "            h_1 = (b + h_2) // 2 - 1\n",
    "            h_3 = (h_2 + d) // 2 - 1\n",
    "        else:\n",
    "            h_3 = (b + h_2) // 2 - 1\n",
    "            h_1 = (h_2 + d) // 2 - 1\n",
    "            \n",
    "        new_frame1[int(h_1),int(w_1)] = old_frame[int(b),int(a)]\n",
    "        new_frame2[int(h_2),int(w_2)] = old_frame[int(b),int(a)]\n",
    "        new_frame3[int(h_3),int(w_3)] = old_frame[int(b),int(a)]\n",
    "    \n",
    "    out.write(old_frame)\n",
    "    out.write(new_frame1)\n",
    "    out.write(new_frame2)\n",
    "    out.write(new_frame3)\n",
    "            \n",
    "    # Now update the previous frame and previous points\n",
    "    old_frame = frame.copy()\n",
    "    old_gray = frame_gray.copy()\n",
    "    \n",
    "video.release()\n",
    "out.release()"
   ]
  },
  {
   "cell_type": "code",
   "execution_count": null,
   "metadata": {},
   "outputs": [],
   "source": []
  }
 ],
 "metadata": {
  "kernelspec": {
   "display_name": "Python 3",
   "language": "python",
   "name": "python3"
  },
  "language_info": {
   "codemirror_mode": {
    "name": "ipython",
    "version": 3
   },
   "file_extension": ".py",
   "mimetype": "text/x-python",
   "name": "python",
   "nbconvert_exporter": "python",
   "pygments_lexer": "ipython3",
   "version": "3.7.3"
  }
 },
 "nbformat": 4,
 "nbformat_minor": 2
}
